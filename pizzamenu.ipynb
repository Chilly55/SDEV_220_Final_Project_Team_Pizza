{
 "cells": [
  {
   "cell_type": "code",
   "execution_count": 1,
   "id": "287fec1e",
   "metadata": {},
   "outputs": [
    {
     "name": "stdout",
     "output_type": "stream",
     "text": [
      "Welcome to our page!\n",
      "Here's our menu:\n",
      "1. Cheese Pizza ($10.99)\n",
      "2. The Sinner (with jalapenos and pineapple) ($12.99)\n",
      "3. Pepperoni Pizza ($11.99)\n",
      "4. Vegan Fruity ($14.99)\n",
      "5. Coca-Cola Product ($2.99)\n",
      "6. Water bottle ($4.99)\n",
      "7. Flan ($4.99)\n",
      "8. Cup cake ($5.99)\n"
     ]
    }
   ],
   "source": [
    "class Menu:#this is the parent class \n",
    "    def __init__(self, name, price):\n",
    "        self.name = name\n",
    "        self.price = price\n",
    "\n",
    "class Pizza(Menu):# Subclasses \n",
    "    def __init__(self, name, price):\n",
    "        super().__init__(name, price)\n",
    "\n",
    "class Drink(Menu):\n",
    "    def __init__(self, name, price):\n",
    "        super().__init__(name, price)\n",
    "\n",
    "class Dessert(Menu):\n",
    "    def __init__(self, name, price):\n",
    "        super().__init__(name, price)\n",
    "\n",
    "# This are the items for our menu\n",
    "cheese_pizza = Pizza(\"Cheese Pizza\", 10.99)\n",
    "the_sinner = Pizza(\"The Sinner (with jalapenos and pineapple)\", 12.99)\n",
    "pepperoni = Pizza(\"Pepperoni Pizza\", 11.99)\n",
    "vegan_pizza = Pizza(\"Vegan Fruity\", 14.99)\n",
    "\n",
    "coke_product = Drink(\"Coca-Cola Product\", 2.99)\n",
    "water = Drink(\"Water bottle\", 4.99)\n",
    "\n",
    "flan = Dessert(\"Flan\", 4.99)\n",
    "cup_cake = Dessert(\"Cup cake\", 5.99)\n",
    "\n",
    "#Welcoming the costumer\n",
    "print(\"Welcome to our page!\")\n",
    "\n",
    "#this is the list or menu ,I included the lsit \n",
    "menu_items = [cheese_pizza, the_sinner, pepperoni, vegan_pizza, coke_product, water, flan, cup_cake]\n",
    "\n",
    "# Print the menu options to the user\n",
    "print(\"Here's our menu:\")\n",
    "for i, item in enumerate(menu_items):\n",
    "    print(f\"{i+1}. {item.name} (${item.price})\")"
   ]
  },
  {
   "cell_type": "code",
   "execution_count": null,
   "id": "1e582770",
   "metadata": {},
   "outputs": [],
   "source": []
  }
 ],
 "metadata": {
  "kernelspec": {
   "display_name": "Python 3 (ipykernel)",
   "language": "python",
   "name": "python3"
  },
  "language_info": {
   "codemirror_mode": {
    "name": "ipython",
    "version": 3
   },
   "file_extension": ".py",
   "mimetype": "text/x-python",
   "name": "python",
   "nbconvert_exporter": "python",
   "pygments_lexer": "ipython3",
   "version": "3.9.13"
  }
 },
 "nbformat": 4,
 "nbformat_minor": 5
}
